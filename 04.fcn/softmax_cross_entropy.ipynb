{
 "cells": [
  {
   "cell_type": "code",
   "execution_count": 41,
   "metadata": {
    "scrolled": false
   },
   "outputs": [
    {
     "name": "stdout",
     "output_type": "stream",
     "text": [
      "[ 0.85476029  1.29552341  1.46135581  0.06729376  1.54673517  2.92041135\n",
      "  1.35640991  1.19358015]\n",
      "[ 0.05622435  0.0873666   0.10312537  0.02558186  0.11231694  0.44363448\n",
      "  0.09285132  0.07889909]\n",
      "[ 0.  0.  1.  0.  0.  0.  0.  0.]\n",
      "2.27181 2.27181\n",
      "True\n"
     ]
    }
   ],
   "source": [
    "import tensorflow as tf\n",
    "from random import randint\n",
    "\n",
    "dims = 8\n",
    "pos  = randint(0, dims - 1)\n",
    "\n",
    "logits = tf.random_uniform([dims], maxval=3, dtype=tf.float32)\n",
    "labels = tf.one_hot(pos, dims)\n",
    "\n",
    "soft_logits = tf.nn.softmax(logits)\n",
    "\n",
    "res1 = tf.nn.softmax_cross_entropy_with_logits(logits=logits, labels=labels)\n",
    "res2 = tf.nn.sparse_softmax_cross_entropy_with_logits(logits=logits, labels=tf.constant(pos))\n",
    "\n",
    "sess = tf.Session()\n",
    "init = tf.global_variables_initializer()\n",
    "sess.run(init)\n",
    "\n",
    "with tf.Session() as sess:\n",
    "    a, b, c, d, e = sess.run([res1, res2, logits, soft_logits, labels])\n",
    "\n",
    "    print c\n",
    "    print d\n",
    "    print e\n",
    "    \n",
    "    print a, b\n",
    "    print a == b\n",
    "    "
   ]
  },
  {
   "cell_type": "code",
   "execution_count": null,
   "metadata": {
    "collapsed": true
   },
   "outputs": [],
   "source": []
  }
 ],
 "metadata": {
  "kernelspec": {
   "display_name": "Python 2",
   "language": "python",
   "name": "python2"
  },
  "language_info": {
   "codemirror_mode": {
    "name": "ipython",
    "version": 2
   },
   "file_extension": ".py",
   "mimetype": "text/x-python",
   "name": "python",
   "nbconvert_exporter": "python",
   "pygments_lexer": "ipython2",
   "version": "2.7.13"
  }
 },
 "nbformat": 4,
 "nbformat_minor": 2
}
