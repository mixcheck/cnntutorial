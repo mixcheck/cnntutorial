{
 "cells": [
  {
   "cell_type": "markdown",
   "metadata": {},
   "source": [
    "### TensorFlow-Slim image classification model library\n",
    "\n",
    "https://github.com/tensorflow/models/tree/master/slim\n",
    "\n",
    "TF-slim is a new lightweight high-level API of TensorFlow (tensorflow.contrib.slim) for defining, training and evaluating complex models. This directory contains code for training and evaluating several widely used Convolutional Neural Network (CNN) image classification models using TF-slim.\n",
    "\n",
    "- train models from scratch or fine-tune them from pre-trained network weights\n",
    "- downloading standard image datasets (Flowers, MNIST, cifar10, ImageNet), converting them to TensorFlow's native TFRecord format\n"
   ]
  },
  {
   "cell_type": "code",
   "execution_count": null,
   "metadata": {
    "collapsed": true
   },
   "outputs": [],
   "source": [
    "%matplotlib inline\n",
    "\n",
    "import os\n",
    "import sys\n",
    "import math\n",
    "import numpy as np\n",
    "import tensorflow as tf\n",
    "\n",
    "sys.path.insert(0,'../models/slim')\n",
    "from datasets import download_and_convert_cifar10\n",
    "from datasets import download_and_convert_flowers\n",
    "from datasets import download_and_convert_mnist\n",
    "\n",
    "_DATASET_NAME='cifar10'\n",
    "dataset_dir = '/tmp/datasets/' + _DATASET_NAME\n",
    "download_and_convert_cifar10.run(dataset_dir)"
   ]
  },
  {
   "cell_type": "markdown",
   "metadata": {},
   "source": [
    "### Downloading 'cifar10' and Converting to TFRecord format\n",
    "\n",
    "download 'cifar-10-python' dataset from 'https://www.cs.toronto.edu/~kriz/cifar-10-python.tar.gz' and convert to TFRecord format. "
   ]
  },
  {
   "cell_type": "code",
   "execution_count": null,
   "metadata": {
    "collapsed": true
   },
   "outputs": [],
   "source": []
  }
 ],
 "metadata": {
  "kernelspec": {
   "display_name": "Python 2",
   "language": "python",
   "name": "python2"
  },
  "language_info": {
   "codemirror_mode": {
    "name": "ipython",
    "version": 2
   },
   "file_extension": ".py",
   "mimetype": "text/x-python",
   "name": "python",
   "nbconvert_exporter": "python",
   "pygments_lexer": "ipython2",
   "version": "2.7.6"
  }
 },
 "nbformat": 4,
 "nbformat_minor": 2
}
