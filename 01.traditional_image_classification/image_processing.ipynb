{
 "cells": [
  {
   "cell_type": "markdown",
   "metadata": {
    "collapsed": true
   },
   "source": [
    "### Image Threshold\n",
    "cv2.threshold(src,tresh,maxval,type) = retval, dst\n",
    "\n",
    "Parameter: \n",
    "- src: input image로 single-channel image (grayscale을 사용)\n",
    "- thresh: 임계값\n",
    "- maxval: 임계값을 넘었을 때 적용할 value (흑백의 경우 255)\n",
    "- type: thresholding type\n",
    "\n",
    "Thresholding Type: \n",
    "- *cv2.THRESH_BINARY*\n",
    "- *cv2.THRESH_BINARY_INV*\n",
    "- *cv2.THRESH_BINARY_TRUNC*\n",
    "- *cv2.THRESH_BINARY_TOZERO*\n",
    "- *cv2.THRESH_BINARY_TOZERO_INV*\n"
   ]
  },
  {
   "cell_type": "code",
   "execution_count": null,
   "metadata": {},
   "outputs": [],
   "source": [
    "import cv2\n",
    "import numpy as np\n",
    "from matplotlib import pyplot as plt\n",
    "import matplotlib as mpl\n",
    "\n",
    "mpl.rcParams['figure.figsize'] = (10,10)\n",
    "\n",
    "img = cv2.imread('radial_gradient.png',0)\n",
    "ret,thresh1 = cv2.threshold(img,127,255,cv2.THRESH_BINARY)\n",
    "ret,thresh2 = cv2.threshold(img,127,255,cv2.THRESH_BINARY_INV)\n",
    "ret,thresh3 = cv2.threshold(img,127,255,cv2.THRESH_TRUNC)\n",
    "ret,thresh4 = cv2.threshold(img,127,255,cv2.THRESH_TOZERO)\n",
    "ret,thresh5 = cv2.threshold(img,127,255,cv2.THRESH_TOZERO_INV)\n",
    "\n",
    "titles = ['Original Image','BINARY','BINARY_INV','TRUNC','TOZERO','TOZERO_INV']\n",
    "images = [img, thresh1, thresh2, thresh3, thresh4, thresh5]\n",
    "\n",
    "for i in xrange(6):\n",
    "    plt.subplot(2,3,i+1),plt.imshow(images[i],'gray')\n",
    "    plt.title(titles[i])\n",
    "    plt.xticks([]),plt.yticks([])\n",
    "\n",
    "plt.show()"
   ]
  },
  {
   "cell_type": "markdown",
   "metadata": {},
   "source": [
    "### Adaptive Threshold\n",
    "cv2.adaptiveThreshold(src, maxValue, adaptiveMethod, thresholdType, blockSize, C) = dst\n",
    "\n",
    "Parameters:\n",
    "- src: grayscale image\n",
    "- maxValue: 임계값을 넘었을 때 적용할 value\n",
    "- adaptiveMethod: threshold value를 찾기 위해 계산하는 방법\n",
    "- thresholdType: threshold type\n",
    "- blockSize: thresholding을 적용할 영역 크기\n",
    "- C: Mean이나 gaussian mean에서 차감할 값\n",
    "\n",
    "AdaptiveMethod:\n",
    "- *cv2.ADAPTIVE_THRESH_MEAN_C*\n",
    "- *cv2.ADAPTIVE_THRESH_GAUSSIAN_C*"
   ]
  },
  {
   "cell_type": "code",
   "execution_count": null,
   "metadata": {
    "scrolled": false
   },
   "outputs": [],
   "source": [
    "img = cv2.imread('coffe.jpg',0)\n",
    "img = cv2.medianBlur(img,5)\n",
    "\n",
    "ret,th1 = cv2.threshold(img,127,255,cv2.THRESH_BINARY)\n",
    "th2 = cv2.adaptiveThreshold(img,255,cv2.ADAPTIVE_THRESH_MEAN_C,\\\n",
    "            cv2.THRESH_BINARY,11,2)\n",
    "th3 = cv2.adaptiveThreshold(img,255,cv2.ADAPTIVE_THRESH_GAUSSIAN_C,\\\n",
    "            cv2.THRESH_BINARY,11,2)\n",
    "\n",
    "titles = ['Original Image', 'Global Thresholding (v = 127)',\n",
    "            'Adaptive Mean Thresholding', 'Adaptive Gaussian Thresholding']\n",
    "images = [img, th1, th2, th3]\n",
    "\n",
    "for i in xrange(4):\n",
    "    plt.subplot(2,2,i+1),plt.imshow(images[i],'gray')\n",
    "    plt.title(titles[i])\n",
    "    plt.xticks([]),plt.yticks([])\n",
    "plt.show()"
   ]
  },
  {
   "cell_type": "markdown",
   "metadata": {
    "collapsed": true
   },
   "source": [
    "### Otsu Thresholing\n",
    "cv2.threshold(src, thresh, maxval, type) = retval, dst\n",
    "\n",
    "in type:\n",
    "- *cv2.THRESH_BINARY + cv2.THRESH_OTSU*\n",
    "- *cv2.THRESH_BINARY_INV + cv2.THRESH_OTSU*\n",
    "- *cv2.THRESH_BINARY_TRUNC + cv2.THRESH_OTSU*\n",
    "- *cv2.THRESH_BINARY_TOZERO + cv2.THRESH_OTSU*\n",
    "- *cv2.THRESH_BINARY_TOZERO_INV + cv2.THRESH_OTSU*"
   ]
  },
  {
   "cell_type": "code",
   "execution_count": null,
   "metadata": {
    "scrolled": false
   },
   "outputs": [],
   "source": [
    "img = cv2.imread('noise.png',0)\n",
    "\n",
    "# global thresholding\n",
    "ret1, th1 = cv2.threshold(img, 127, 255, cv2.THRESH_BINARY)\n",
    "\n",
    "# Otsu's thresholding\n",
    "ret2, th2 = cv2.threshold(img, 0, 255, cv2.THRESH_BINARY+cv2.THRESH_OTSU)\n",
    "\n",
    "# Otsu's thresholding after Gaussian filtering\n",
    "blur = cv2.medianBlur(img,5)\n",
    "ret3, th3 = cv2.threshold(blur, 0, 255, cv2.THRESH_BINARY+cv2.THRESH_OTSU)\n",
    "\n",
    "# plot all the images and their histograms\n",
    "images = [img, 0, th1, img, 0, th2, blur, 0, th3]\n",
    "\n",
    "titles = ['Original Noisy Image','Histogram','Global Thresholding (v=127)', 'Original Noisy Image','Histogram',\"Otsu's Thresholding\", 'Gaussian filtered Image','Histogram',\"Otsu's Thresholding\"]\n",
    "\n",
    "for i in xrange(3):\n",
    "\tplt.subplot(3,3,i*3+1),plt.imshow(images[i*3],'gray')\n",
    "\tplt.title(titles[i*3]), plt.xticks([]), plt.yticks([])\n",
    "\tplt.subplot(3,3,i*3+2),plt.hist(images[i*3].ravel(),256)\n",
    "\tplt.title(titles[i*3+1]), plt.xticks([]), plt.yticks([])\n",
    "\tplt.subplot(3,3,i*3+3),plt.imshow(images[i*3+2],'gray')\n",
    "\tplt.title(titles[i*3+2]), plt.xticks([]), plt.yticks([])\n",
    "\n",
    "plt.show()\n",
    "\n",
    "print ret1, ret2, ret3"
   ]
  },
  {
   "cell_type": "markdown",
   "metadata": {},
   "source": [
    "### Image Smoothing\n",
    "cv2.blur(src,ksize) = dst\n",
    "\n",
    "Parameters:\n",
    "- src: input image\n",
    "- ksize: kernel size (ex: (3,3))\n",
    "\n",
    "cv2.GaussianBlur(img, ksize, sigmaX) = dst\n",
    "\n",
    "Parameters:\n",
    "- img: input image\n",
    "- ksize: kernel size (ex: (3x3))\n",
    "- sigmaX: Gaussian kernel standard deviation in X direction\n",
    "\n",
    "cv2.medianBlur(src, ksize) = dst\n",
    "\n",
    "Parameters:\n",
    "- src: input image\n",
    "- ksize: odd number larger than 1"
   ]
  },
  {
   "cell_type": "code",
   "execution_count": null,
   "metadata": {
    "scrolled": false
   },
   "outputs": [],
   "source": [
    "import cv2\n",
    "import numpy as np\n",
    "from matplotlib import pyplot as plt\n",
    "\n",
    "img = cv2.imread('UniformNoise.jpg')\n",
    "\n",
    "averaging_blur = cv2.blur(img,(5,5))\n",
    "gaussian_blur = cv2.GaussianBlur(img,(5,5),0)\n",
    "median_blur = cv2.medianBlur(img,5)\n",
    "\n",
    "print \"UniformNoise\"\n",
    "plt.subplot(221),plt.imshow(img),plt.title('Original')\n",
    "plt.xticks([]), plt.yticks([])\n",
    "plt.subplot(222),plt.imshow(averaging_blur),plt.title('Averaging Blurred')\n",
    "plt.xticks([]), plt.yticks([])\n",
    "plt.subplot(223),plt.imshow(gaussian_blur),plt.title('Gaussian Blurred')\n",
    "plt.xticks([]), plt.yticks([])\n",
    "plt.subplot(224),plt.imshow(median_blur),plt.title('Median Blurred')\n",
    "plt.xticks([]), plt.yticks([])\n",
    "plt.show()\n",
    "\n",
    "img = cv2.imread('GaussianNoise.jpg')\n",
    "\n",
    "averaging_blur = cv2.blur(img,(5,5))\n",
    "gaussian_blur = cv2.GaussianBlur(img,(5,5),0)\n",
    "median_blur = cv2.medianBlur(img,5)\n",
    "\n",
    "print \"GaussianNoise\"\n",
    "plt.subplot(221),plt.imshow(img),plt.title('Original')\n",
    "plt.xticks([]), plt.yticks([])\n",
    "plt.subplot(222),plt.imshow(averaging_blur),plt.title('Averaging Blurred')\n",
    "plt.xticks([]), plt.yticks([])\n",
    "plt.subplot(223),plt.imshow(gaussian_blur),plt.title('Gaussian Blurred')\n",
    "plt.xticks([]), plt.yticks([])\n",
    "plt.subplot(224),plt.imshow(median_blur),plt.title('Median Blurred')\n",
    "plt.xticks([]), plt.yticks([])\n",
    "plt.show()\n",
    "\n",
    "img = cv2.imread('SaltAndPepperNoise.jpg')\n",
    "\n",
    "averaging_blur = cv2.blur(img,(5,5))\n",
    "gaussian_blur = cv2.GaussianBlur(img,(5,5),0)\n",
    "median_blur = cv2.medianBlur(img,5)\n",
    "\n",
    "print \"SaltAndPepperNoise\"\n",
    "plt.subplot(221),plt.imshow(img),plt.title('Original')\n",
    "plt.xticks([]), plt.yticks([])\n",
    "plt.subplot(222),plt.imshow(averaging_blur),plt.title('Averaging Blurred')\n",
    "plt.xticks([]), plt.yticks([])\n",
    "plt.subplot(223),plt.imshow(gaussian_blur),plt.title('Gaussian Blurred')\n",
    "plt.xticks([]), plt.yticks([])\n",
    "plt.subplot(224),plt.imshow(median_blur),plt.title('Median Blurred')\n",
    "plt.xticks([]), plt.yticks([])\n",
    "plt.show()"
   ]
  }
 ],
 "metadata": {
  "kernelspec": {
   "display_name": "Python 2",
   "language": "python",
   "name": "python2"
  },
  "language_info": {
   "codemirror_mode": {
    "name": "ipython",
    "version": 2
   },
   "file_extension": ".py",
   "mimetype": "text/x-python",
   "name": "python",
   "nbconvert_exporter": "python",
   "pygments_lexer": "ipython2",
   "version": "2.7.11"
  }
 },
 "nbformat": 4,
 "nbformat_minor": 2
}
